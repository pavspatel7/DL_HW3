{
  "nbformat": 4,
  "nbformat_minor": 0,
  "metadata": {
    "colab": {
      "provenance": [],
      "collapsed_sections": [
        "7YF2CMqHhq0v",
        "RxNJrgaQNFxh",
        "TzahBScR6fvS"
      ],
      "gpuType": "T4"
    },
    "kernelspec": {
      "name": "python3",
      "display_name": "Python 3"
    },
    "language_info": {
      "name": "python"
    },
    "accelerator": "GPU"
  },
  "cells": [
    {
      "cell_type": "code",
      "source": [
        "import numpy as np\n",
        "import torch\n",
        "import torch.nn as nn\n",
        "import torch.optim as optim\n",
        "import torchvision\n",
        "import torchvision.transforms as transforms\n",
        "from torch.utils.data import DataLoader\n",
        "import matplotlib.pyplot as plt\n",
        "import time\n",
        "import math\n",
        "import torch.nn.functional as F\n",
        "from torch.utils.data import TensorDataset, random_split, Dataset\n",
        "from torch.nn.utils.rnn import pad_sequence, pack_padded_sequence, pad_packed_sequence\n",
        "import torch.nn.utils.rnn as rnn_utils"
      ],
      "metadata": {
        "id": "nunh0oKM0xoP"
      },
      "execution_count": 1,
      "outputs": []
    },
    {
      "cell_type": "markdown",
      "source": [
        "#Problem 1:"
      ],
      "metadata": {
        "id": "7YF2CMqHhq0v"
      }
    },
    {
      "cell_type": "code",
      "source": [
        "# Setting device for GPU acceleration\n",
        "device = torch.device('cuda' if torch.cuda.is_available() else 'cpu')\n",
        "print('Using device:', device)\n",
        "\n",
        "# Loading MNIST dataset\n",
        "transform = transforms.Compose([\n",
        "    transforms.ToTensor(),\n",
        "    transforms.Normalize((0.5,), (0.5,))\n",
        "])\n",
        "trainset = torchvision.datasets.MNIST(root='./data', train=True, download=True, transform=transform)\n",
        "testset = torchvision.datasets.MNIST(root='./data', train=False, download=True, transform=transform)\n",
        "\n",
        "train_loader = DataLoader(trainset, batch_size=64, shuffle=True)\n",
        "test_loader = DataLoader(testset, batch_size=64, shuffle=False)"
      ],
      "metadata": {
        "colab": {
          "base_uri": "https://localhost:8080/"
        },
        "id": "RIDowHbodsLV",
        "outputId": "9e923bbb-d97d-40f7-9cf4-bc05ebe26793"
      },
      "execution_count": null,
      "outputs": [
        {
          "output_type": "stream",
          "name": "stdout",
          "text": [
            "Using device: cpu\n",
            "Downloading http://yann.lecun.com/exdb/mnist/train-images-idx3-ubyte.gz\n",
            "Downloading http://yann.lecun.com/exdb/mnist/train-images-idx3-ubyte.gz to ./data/MNIST/raw/train-images-idx3-ubyte.gz\n"
          ]
        },
        {
          "output_type": "stream",
          "name": "stderr",
          "text": [
            "100%|██████████| 9912422/9912422 [00:00<00:00, 100085727.39it/s]"
          ]
        },
        {
          "output_type": "stream",
          "name": "stdout",
          "text": [
            "Extracting ./data/MNIST/raw/train-images-idx3-ubyte.gz to ./data/MNIST/raw\n"
          ]
        },
        {
          "output_type": "stream",
          "name": "stderr",
          "text": [
            "\n"
          ]
        },
        {
          "output_type": "stream",
          "name": "stdout",
          "text": [
            "\n",
            "Downloading http://yann.lecun.com/exdb/mnist/train-labels-idx1-ubyte.gz\n",
            "Downloading http://yann.lecun.com/exdb/mnist/train-labels-idx1-ubyte.gz to ./data/MNIST/raw/train-labels-idx1-ubyte.gz\n"
          ]
        },
        {
          "output_type": "stream",
          "name": "stderr",
          "text": [
            "100%|██████████| 28881/28881 [00:00<00:00, 25236602.88it/s]"
          ]
        },
        {
          "output_type": "stream",
          "name": "stdout",
          "text": [
            "Extracting ./data/MNIST/raw/train-labels-idx1-ubyte.gz to ./data/MNIST/raw\n",
            "\n",
            "Downloading http://yann.lecun.com/exdb/mnist/t10k-images-idx3-ubyte.gz\n"
          ]
        },
        {
          "output_type": "stream",
          "name": "stderr",
          "text": [
            "\n"
          ]
        },
        {
          "output_type": "stream",
          "name": "stdout",
          "text": [
            "Downloading http://yann.lecun.com/exdb/mnist/t10k-images-idx3-ubyte.gz to ./data/MNIST/raw/t10k-images-idx3-ubyte.gz\n"
          ]
        },
        {
          "output_type": "stream",
          "name": "stderr",
          "text": [
            "100%|██████████| 1648877/1648877 [00:00<00:00, 27918742.90it/s]\n"
          ]
        },
        {
          "output_type": "stream",
          "name": "stdout",
          "text": [
            "Extracting ./data/MNIST/raw/t10k-images-idx3-ubyte.gz to ./data/MNIST/raw\n",
            "\n",
            "Downloading http://yann.lecun.com/exdb/mnist/t10k-labels-idx1-ubyte.gz\n",
            "Downloading http://yann.lecun.com/exdb/mnist/t10k-labels-idx1-ubyte.gz to ./data/MNIST/raw/t10k-labels-idx1-ubyte.gz\n"
          ]
        },
        {
          "output_type": "stream",
          "name": "stderr",
          "text": [
            "100%|██████████| 4542/4542 [00:00<00:00, 11414337.19it/s]\n"
          ]
        },
        {
          "output_type": "stream",
          "name": "stdout",
          "text": [
            "Extracting ./data/MNIST/raw/t10k-labels-idx1-ubyte.gz to ./data/MNIST/raw\n",
            "\n"
          ]
        }
      ]
    },
    {
      "cell_type": "code",
      "source": [
        "# NN class definition\n",
        "class DynamicMNISTModel(nn.Module):\n",
        "    def __init__(self, input_size, hidden_sizes, output_size, activation_flag=0):\n",
        "        super(DynamicMNISTModel, self).__init__()\n",
        "        self.flatten = nn.Flatten()\n",
        "        layers = []\n",
        "\n",
        "        # Choosing the activation function based on activation_flag\n",
        "        if activation_flag == 1:\n",
        "            activation = nn.Sigmoid()\n",
        "        elif activation_flag == 2:\n",
        "            activation = nn.Tanh()\n",
        "        elif activation_flag == 3:\n",
        "            activation = nn.ELU()\n",
        "        else:\n",
        "            # Default is ReLU\n",
        "            activation = nn.ReLU()\n",
        "\n",
        "        if len(hidden_sizes) == 0:\n",
        "            # No hidden layers, only input and output layers\n",
        "            layers.append(nn.Linear(input_size, output_size))\n",
        "        else:\n",
        "            # First layer\n",
        "            layers.append(nn.Linear(input_size, hidden_sizes[0]))\n",
        "            layers.append(nn.LayerNorm(hidden_sizes[0]))\n",
        "            layers.append(activation)\n",
        "            # Hidden layers\n",
        "            for i in range(1, len(hidden_sizes)):\n",
        "                layers.append(nn.Linear(hidden_sizes[i-1], hidden_sizes[i]))\n",
        "                layers.append(nn.LayerNorm(hidden_sizes[i]))\n",
        "                layers.append(activation)\n",
        "            # Output layer\n",
        "            layers.append(nn.Linear(hidden_sizes[-1], output_size))\n",
        "        self.network = nn.Sequential(*layers)\n",
        "\n",
        "    def forward(self, x):\n",
        "        x = self.flatten(x)\n",
        "        return self.network(x)"
      ],
      "metadata": {
        "id": "ggF40NYLdsH3"
      },
      "execution_count": null,
      "outputs": []
    },
    {
      "cell_type": "code",
      "source": [
        "# SGD Optimizer\n",
        "def SGD_optim(model):\n",
        "    return optim.SGD(model.parameters(), lr=0.0015, momentum=0.9)"
      ],
      "metadata": {
        "id": "D_5_zJp7dsFI"
      },
      "execution_count": null,
      "outputs": []
    },
    {
      "cell_type": "code",
      "source": [
        "# Adam Optimizer\n",
        "def Adam_optim(model):\n",
        "    return optim.Adam(model.parameters(), lr=0.0015)"
      ],
      "metadata": {
        "id": "2vudFp_ydsCh"
      },
      "execution_count": null,
      "outputs": []
    },
    {
      "cell_type": "code",
      "source": [
        "# Training & Testing Model\n",
        "def train_and_test_model(model, train_loader, test_loader, epochs=10, flag=1):\n",
        "    optimizer = SGD_optim(model) if flag == 1 else Adam_optim(model)\n",
        "    loss_function = nn.CrossEntropyLoss()\n",
        "    model.to(device)\n",
        "\n",
        "    total_training_time = 0\n",
        "\n",
        "    for epoch in range(epochs):\n",
        "        total_train_loss, total_train_samples = 0, 0\n",
        "        total_test_loss, total_test_samples = 0, 0\n",
        "\n",
        "        start_time = time.time()\n",
        "\n",
        "        model.train()\n",
        "        for images, labels in train_loader:\n",
        "            images, labels = images.to(device), labels.to(device)\n",
        "            optimizer.zero_grad()\n",
        "            outputs = model(images)\n",
        "            train_loss = loss_function(outputs, labels)\n",
        "            train_loss.backward()\n",
        "            optimizer.step()\n",
        "\n",
        "            total_train_loss += train_loss.item() * labels.size(0)\n",
        "            total_train_samples += labels.size(0)\n",
        "\n",
        "        total_training_time += time.time() - start_time\n",
        "\n",
        "        model.eval()\n",
        "        with torch.no_grad():\n",
        "            for images, labels in test_loader:\n",
        "                images, labels = images.to(device), labels.to(device)\n",
        "                outputs = model(images)\n",
        "                test_loss = loss_function(outputs, labels)\n",
        "\n",
        "                total_test_loss += test_loss.item() * labels.size(0)\n",
        "                total_test_samples += labels.size(0)\n",
        "\n",
        "    average_train_loss_last_epoch = total_train_loss / total_train_samples\n",
        "    average_test_loss_last_epoch = total_test_loss / total_test_samples\n",
        "    print(f\"train loss={average_train_loss_last_epoch}, test loss={average_test_loss_last_epoch}\")\n",
        "\n",
        "    return average_train_loss_last_epoch, average_test_loss_last_epoch, total_training_time"
      ],
      "metadata": {
        "id": "M5uGd037dr7L"
      },
      "execution_count": null,
      "outputs": []
    },
    {
      "cell_type": "code",
      "source": [
        "def Problem4(hidden_sizes):\n",
        "    model = DynamicMNISTModel(28*28, hidden_sizes, 10).to(device)\n",
        "    avg_train_loss1, avg_test_loss1, train_time1 = train_and_test_model(model, train_loader, test_loader)\n",
        "    return model"
      ],
      "metadata": {
        "id": "FJ6kDgLAd2zT"
      },
      "execution_count": null,
      "outputs": []
    },
    {
      "cell_type": "code",
      "source": [
        "# Train & Test for Decreasing size - best model from P4\n",
        "hidden_sizes = [575, 475, 375, 250]\n",
        "modelP4 = Problem4(hidden_sizes)"
      ],
      "metadata": {
        "colab": {
          "base_uri": "https://localhost:8080/"
        },
        "id": "BGYSnNc3d50w",
        "outputId": "49f9dafc-b170-47db-f931-6d6f78959dcf"
      },
      "execution_count": null,
      "outputs": [
        {
          "output_type": "stream",
          "name": "stdout",
          "text": [
            "train loss=0.016592147344350813, test loss=0.06437768416907638\n"
          ]
        }
      ]
    },
    {
      "cell_type": "code",
      "source": [
        "# Train & Test for base softmax model\n",
        "hidden_sizes = []\n",
        "modelbase = Problem4(hidden_sizes)"
      ],
      "metadata": {
        "colab": {
          "base_uri": "https://localhost:8080/"
        },
        "id": "_e7vCfJYd7Yh",
        "outputId": "ebf59def-65a5-4f3a-ada2-81c321a9ca31"
      },
      "execution_count": null,
      "outputs": [
        {
          "output_type": "stream",
          "name": "stdout",
          "text": [
            "train loss=0.2889441215912501, test loss=0.28367612758874894\n"
          ]
        }
      ]
    },
    {
      "cell_type": "code",
      "source": [
        "modelP4.eval()\n",
        "modelbase.eval()"
      ],
      "metadata": {
        "colab": {
          "base_uri": "https://localhost:8080/"
        },
        "id": "XRRQGuONd96l",
        "outputId": "415bb856-0f7e-44f7-c412-f23f1de1792a"
      },
      "execution_count": null,
      "outputs": [
        {
          "output_type": "execute_result",
          "data": {
            "text/plain": [
              "DynamicMNISTModel(\n",
              "  (flatten): Flatten(start_dim=1, end_dim=-1)\n",
              "  (network): Sequential(\n",
              "    (0): Linear(in_features=784, out_features=10, bias=True)\n",
              "  )\n",
              ")"
            ]
          },
          "metadata": {},
          "execution_count": 10
        }
      ]
    },
    {
      "cell_type": "code",
      "source": [
        "# Generating initial random images for optimization.\n",
        "initial_images = torch.rand(10, 1, 28, 28, requires_grad=True)\n",
        "\n",
        "# Regularization strength parameter to control the L2 regularization term.\n",
        "lambda_reg = 0.1\n",
        "\n",
        "# Function to optimize an image to maximize the probability of a target digit classification.\n",
        "def optimize_image(model, target_digit, initial_image, iterations=1000, learning_rate=0.01):\n",
        "    image = initial_image.clone().detach().requires_grad_(True)\n",
        "    optimizer = torch.optim.Adam([image], lr=learning_rate)\n",
        "\n",
        "    for i in range(iterations):\n",
        "        optimizer.zero_grad()\n",
        "        output = model(image)\n",
        "        # Computing the log probabilities using a softmax function.\n",
        "        log_probs = F.log_softmax(output, dim=1)\n",
        "        # Calculate the loss as the negative log probability of the target digit.\n",
        "        loss = -log_probs[0, target_digit]\n",
        "\n",
        "        # Add the L2 regularization term to the loss.\n",
        "        l2_reg = lambda_reg * torch.sum(image ** 2)\n",
        "        total_loss = loss + l2_reg\n",
        "\n",
        "        total_loss.backward()\n",
        "        optimizer.step()\n",
        "\n",
        "        # Clamp the image data to be within the valid range of [0, 1] after each update.\n",
        "        image.data = image.data.clamp_(0, 1)\n",
        "    return image.detach()"
      ],
      "metadata": {
        "id": "Ae2y5T9rd93J"
      },
      "execution_count": null,
      "outputs": []
    },
    {
      "cell_type": "code",
      "source": [
        "# Generate optimized images for each digit using the base model.\n",
        "optimized_images_simple = [optimize_image(modelbase, digit, initial_images[digit].unsqueeze(0)) for digit in range(10)]\n",
        "\n",
        "# Generate optimized images for each digit using the more complex model from P4.\n",
        "optimized_images_complex = [optimize_image(modelP4, digit, initial_images[digit].unsqueeze(0)) for digit in range(10)]"
      ],
      "metadata": {
        "id": "VYmHiqqhd90k"
      },
      "execution_count": null,
      "outputs": []
    },
    {
      "cell_type": "code",
      "source": [
        "def show_images(images):\n",
        "    fig, axes = plt.subplots(1, 10, figsize=(20, 2))\n",
        "    for i, ax in enumerate(axes):\n",
        "        ax.imshow(images[i].squeeze().cpu().numpy(), cmap='gray')\n",
        "        ax.axis('off')\n",
        "    plt.show()\n",
        "\n",
        "# Converting the list of tensors to a tensor for easy manipulation\n",
        "optimized_images_simple_tensor = torch.cat([img for img in optimized_images_simple], dim=0)\n",
        "optimized_images_complex_tensor = torch.cat([img for img in optimized_images_complex], dim=0)\n",
        "\n",
        "print(\"Base Model: 0 to 9 images\")\n",
        "show_images(optimized_images_simple_tensor)\n",
        "print(\"P4 Model: 0 to 9 images\")\n",
        "show_images(optimized_images_complex_tensor)"
      ],
      "metadata": {
        "colab": {
          "base_uri": "https://localhost:8080/",
          "height": 324
        },
        "id": "k6kh-vGAMY3F",
        "outputId": "6942b822-463d-496b-9cc6-fca320cd845e"
      },
      "execution_count": null,
      "outputs": [
        {
          "output_type": "stream",
          "name": "stdout",
          "text": [
            "Base Model: 0 to 9 images\n"
          ]
        },
        {
          "output_type": "display_data",
          "data": {
            "text/plain": [
              "<Figure size 2000x200 with 10 Axes>"
            ],
            "image/png": "[encoded data removed]"
          },
          "metadata": {}
        },
        {
          "output_type": "stream",
          "name": "stdout",
          "text": [
            "P4 Model: 0 to 9 images\n"
          ]
        },
        {
          "output_type": "display_data",
          "data": {
            "text/plain": [
              "<Figure size 2000x200 with 10 Axes>"
            ],
            "image/png": "[encoded data removed]"
          },
          "metadata": {}
        }
      ]
    },
    {
      "cell_type": "code",
      "source": [
        "# clamped -0.5 to 0.5 (not required - but just attached for additional observation)\n",
        "# re-ran the above code with one modification - in the optimize_image function change \"image.data = image.data.clamp_(0, 1) to the following:\n",
        "# image.data = image.data.clamp_(-0.5, 0.5)"
      ],
      "metadata": {
        "colab": {
          "base_uri": "https://localhost:8080/",
          "height": 324
        },
        "id": "fnTlgTABPTF3",
        "outputId": "08da35c0-a6cd-443f-dea7-c7d184c73f28"
      },
      "execution_count": null,
      "outputs": [
        {
          "output_type": "stream",
          "name": "stdout",
          "text": [
            "Base Model: 0 to 9 images\n"
          ]
        },
        {
          "output_type": "display_data",
          "data": {
            "text/plain": [
              "<Figure size 2000x200 with 10 Axes>"
            ],
            "image/png": "[encoded data removed]"
          },
          "metadata": {}
        },
        {
          "output_type": "stream",
          "name": "stdout",
          "text": [
            "P4 Model: 0 to 9 images\n"
          ]
        },
        {
          "output_type": "display_data",
          "data": {
            "text/plain": [
              "<Figure size 2000x200 with 10 Axes>"
            ],
            "image/png": "[encoded data removed]"
          },
          "metadata": {}
        }
      ]
    },
    {
      "cell_type": "markdown",
      "source": [
        "**Notes on Problem 1:**\n",
        "- The images were optimized using Adam optimizer with a learning rate of 0.01\n",
        "\n",
        "**Q. How can you formulate this as a minimization problem? What would the variables be, and what would the loss function be? Note: Regularization may be useful here.**\n",
        "\n",
        "Ans:\n",
        "- **Minimization:** By minimizing the loss function we calculate how unlikely it is for a modified input image to be classified as the target digit by the NN model. This is achieved by optimizing the pixel values of an initial image so that the model's predicted probability for the target digit is maximized, which is equivalent to minimizing the negative log probability for that digit.\n",
        "- **Variables:** The variables in this optimization problem are the pixel values of the image being optimized. These pixels are represented as tensor and are initialized at random.\n",
        "- **Loss Function:** The primary component is the negative log probability of the traget digit's class in the model's output distribution. This can be achieved by applying the softmax function to the logits output by the model and then taking the logarithm. The second component is the **L2 regularization** term, which penalizes large pixel values to avoid overfitting to the model's predictions and to keep the optimized image within a realistic range.\n",
        "- Additionally, the vector image was **clamped** to constrian the values within a valid range. The output above is for two different ranges: (0, 1) and (-0.5, 0.5).\n",
        "\n",
        "**Q. Formulate how to solve the problem for the optimal digit images**\n",
        "\n",
        "Ans: To solve for the optimal digit images, we formula as a optimization problem where the goal is to modify pixels of an initially randomly generated image such that a trained NN model assigns the highest possible probability to the corresponding target digit class. The detailed formualtion is described in the steps above (Minimization, Variables, Loss Function, Clamping).\n",
        "Additional details: We will run the optimization loop for some fixed iterations. We will use Adam optimizer to optimize the images. We will use back propogation to compute gradients of the loss function with respect to the image pixels.\n",
        "\n",
        "**Q. Find and display the ten optimal images for the no hidden layer network.**\n",
        "\n",
        "Ans: Displayed above (This is labeled as \"Base Model: 0 to 9 images\" in the output. The images are displayed horizontally in the order 0 to 9)\n",
        "\n",
        "**Q. Find and display the ten optimal images for the optimal network**\n",
        "\n",
        "Ans: Displayed above (This is labeled as \"P4 Model: 0 to 9 images\" in the output. The images are displayed horizontally in the order 0 to 9)\n",
        "The optimal network here is the best network that was observed from HW 2 Problem 4.\n",
        "\n",
        "**Q. What do the images suggest about what the two networks are looking for, in terms of features? Any similarities or differences?**\n",
        "\n",
        "Ans:\n",
        "\n",
        "Base Model: The base model has no hidden layers and so it can't learn any complex features or patterns. It can only learn the most simplest form of the images. The most simplest feature or form of the image is the correct image itself. It learns to recognize digits by identifying and using simple patterns that correspond to the actual data. So, when optimizing using base model, we see the images generated correspond to the actual digits.\n",
        "\n",
        "P4 Model: In contrast, the images optimized for the P4 model, which is a more complex model with multiple hidden layers can learn more complex features and patterns. So, the generated images doesn't necessarily have to correspond to the actual clear digits. From the generated images we can conclude that they learn features such as edges, corners, or complex pattern of actual digit images. This are not visible clearly as digits to human eye (From the output we can confirm that they somewhat correspond to actual digit images but it's hard to trace and identify). The P4 model is better than Base model because of these complex features that the P4 model has learned. As a result, P4 model can predict better in case the images are presented in various forms.\n",
        "\n",
        "Similarity: In essence, both models are looking for patterns/features that increase the probability of the desired classification.\n",
        "\n",
        "Difference: The key difference is the level of complexity of the features each model is focusing on.\n",
        "\n",
        "In summary, the base model relies on simpler, more obvious features that closely resemble the digits, while the P4 model relies on complex patterns that may capture more abstract representations of the digits."
      ],
      "metadata": {
        "id": "9NXkcWQH5bUB"
      }
    },
    {
      "cell_type": "markdown",
      "source": [
        "**Bonus:**\n",
        "\n",
        "**How should you decide when to stop training? What does overfitting/over training mean here?**\n",
        "\n",
        "Ans: Early Stopping can be used to prevent overfitting. We can monitor loss on the testing data or validation data and if the model's performance starts to worsen, we stop the the training process at this point.\n",
        "\n",
        "We can use the \"best_loss\" parameter which keeps track of the lowest loss so far. We can have a \"patience\" parameter that keeps track of the count/resistance/patience for which we want to allow the model to run. For example, is patience is set to 3. We will wait for 3 consecutive runs. If all 3 runs had loss increasing compared to best_loss observed we terminate the training loop.\n",
        "\n",
        "Overfitting/Overtraining here would occur as a result of access optimization or training. As a result, the optimized images become over specialized to the model used for optimization. They start to learn the features of the digit so well that they loose their complexity and loose ability to generalize well on the unseen data."
      ],
      "metadata": {
        "id": "Z20ZalXN9Kkm"
      }
    },
    {
      "cell_type": "markdown",
      "source": [
        "#Problem 2:"
      ],
      "metadata": {
        "id": "RxNJrgaQNFxh"
      }
    },
    {
      "cell_type": "code",
      "source": [
        "def generate_data(num_sequences=25000, max_sequence_length=100, min_sequence_length=1, change_point_limit=100):\n",
        "    sequences = []\n",
        "    labels = []\n",
        "\n",
        "    for _ in range(num_sequences):\n",
        "        sequence_length = np.random.randint(min_sequence_length, max_sequence_length + 1)\n",
        "        change_point = np.random.randint(0, change_point_limit)\n",
        "\n",
        "        sequence = np.random.normal(0, 1, (sequence_length, 10))\n",
        "\n",
        "        label = np.zeros(sequence_length)\n",
        "\n",
        "        if change_point < sequence_length:\n",
        "            change_indices = np.random.choice(10, 5, replace=False)\n",
        "            change_values = np.random.uniform(-1, 1, size=5)\n",
        "\n",
        "            for t in range(change_point, sequence_length):\n",
        "                sequence[t, change_indices] += change_values\n",
        "                label[t] = 1\n",
        "\n",
        "        sequences.append(sequence)\n",
        "        labels.append(label)\n",
        "\n",
        "    return sequences, labels\n",
        "\n",
        "sequences, labels = generate_data()"
      ],
      "metadata": {
        "id": "K99hQUcmNEVe"
      },
      "execution_count": 2,
      "outputs": []
    },
    {
      "cell_type": "markdown",
      "source": [
        "**Part 1: Change Point Detection using RNN's**"
      ],
      "metadata": {
        "id": "fhrlIqRE3OOE"
      }
    },
    {
      "cell_type": "code",
      "source": [
        "class VariableLengthSequenceDataset(Dataset):\n",
        "    def __init__(self, sequences, labels):\n",
        "        self.sequences = [torch.tensor(sequence, dtype=torch.float32) for sequence in sequences]\n",
        "        self.labels = [torch.tensor(label, dtype=torch.float32) for label in labels]\n",
        "\n",
        "    def __len__(self):\n",
        "        return len(self.sequences)\n",
        "\n",
        "    def __getitem__(self, idx):\n",
        "        return self.sequences[idx], self.labels[idx]\n",
        "\n",
        "def collate_fn(batch):\n",
        "    sequences, labels = zip(*batch)\n",
        "    sequences_padded = pad_sequence(sequences, batch_first=True)\n",
        "    labels_padded = pad_sequence(labels, batch_first=True)\n",
        "    return sequences_padded, labels_padded"
      ],
      "metadata": {
        "id": "r1LKlGPd5QTs"
      },
      "execution_count": null,
      "outputs": []
    },
    {
      "cell_type": "code",
      "source": [
        "full_dataset = VariableLengthSequenceDataset(sequences, labels)\n",
        "\n",
        "num_train = int(0.8 * len(full_dataset))\n",
        "num_test = len(full_dataset) - num_train\n",
        "train_dataset, test_dataset = random_split(full_dataset, [num_train, num_test])\n",
        "\n",
        "train_dataloader = DataLoader(train_dataset, batch_size=64, shuffle=True, collate_fn=collate_fn)\n",
        "test_dataloader = DataLoader(test_dataset, batch_size=64, shuffle=False, collate_fn=collate_fn)"
      ],
      "metadata": {
        "id": "QRwCvqF3nQHr"
      },
      "execution_count": null,
      "outputs": []
    },
    {
      "cell_type": "code",
      "source": [
        "class LSTMModel(nn.Module):\n",
        "    def __init__(self):\n",
        "        super(LSTMModel, self).__init__()\n",
        "        self.lstm = nn.LSTM(input_size=10, hidden_size=20, num_layers=2, batch_first=True)\n",
        "        self.layer_norm = nn.LayerNorm(20)\n",
        "        self.fc = nn.Linear(20, 1)\n",
        "\n",
        "    def forward(self, x, lengths):\n",
        "        packed_x = pack_padded_sequence(x, lengths, batch_first=True, enforce_sorted=False)\n",
        "        packed_output, (hidden, cell) = self.lstm(packed_x)\n",
        "        output, _ = pad_packed_sequence(packed_output, batch_first=True)\n",
        "\n",
        "        output = self.layer_norm(output)\n",
        "        output = self.fc(output)\n",
        "        return torch.sigmoid(output)\n",
        "\n",
        "lstmModel = LSTMModel()"
      ],
      "metadata": {
        "id": "kxKDJV9qoKE-"
      },
      "execution_count": null,
      "outputs": []
    },
    {
      "cell_type": "code",
      "source": [
        "# training and testing lstmModel\n",
        "criterion = nn.BCELoss()\n",
        "optimizer = optim.Adam(lstmModel.parameters(), lr = 0.001)\n",
        "\n",
        "for epoch in range(15):\n",
        "    # Training phase\n",
        "    lstmModel.train()\n",
        "    total_loss = 0\n",
        "    for seqs, lbls in train_dataloader:\n",
        "        lengths = [len(seq) for seq in seqs]\n",
        "\n",
        "        optimizer.zero_grad()\n",
        "        outputs = lstmModel(seqs, lengths)\n",
        "        loss = criterion(outputs.squeeze(), lbls)\n",
        "        loss.backward()\n",
        "        optimizer.step()\n",
        "        total_loss += loss.item()\n",
        "    avg_train_loss = total_loss / len(train_dataloader)\n",
        "\n",
        "    # Evaluation phase\n",
        "    lstmModel.eval()\n",
        "    total_loss = 0\n",
        "    with torch.no_grad():\n",
        "        for seqs, lbls in test_dataloader:\n",
        "            lengths = [len(seq) for seq in seqs]\n",
        "\n",
        "            outputs = lstmModel(seqs, lengths)\n",
        "            loss = criterion(outputs.squeeze(), lbls)\n",
        "            total_loss += loss.item()\n",
        "    avg_test_loss = total_loss / len(test_dataloader)\n",
        "\n",
        "    print(f'Epoch {epoch+1}, Train loss = {avg_train_loss:.4f}, Test loss = {avg_test_loss:.4f}')"
      ],
      "metadata": {
        "colab": {
          "base_uri": "https://localhost:8080/"
        },
        "id": "GrUcR8DCqHE7",
        "outputId": "39f1fad3-3e1e-4748-c44c-418ce4631ff9"
      },
      "execution_count": null,
      "outputs": [
        {
          "output_type": "stream",
          "name": "stdout",
          "text": [
            "Epoch 1, Train loss = 0.5699, Test loss = 0.4516\n",
            "Epoch 2, Train loss = 0.4600, Test loss = 0.4329\n",
            "Epoch 3, Train loss = 0.4280, Test loss = 0.4007\n",
            "Epoch 4, Train loss = 0.3783, Test loss = 0.3484\n",
            "Epoch 5, Train loss = 0.3300, Test loss = 0.3019\n",
            "Epoch 6, Train loss = 0.2922, Test loss = 0.2695\n",
            "Epoch 7, Train loss = 0.2665, Test loss = 0.2483\n",
            "Epoch 8, Train loss = 0.2459, Test loss = 0.2319\n",
            "Epoch 9, Train loss = 0.2301, Test loss = 0.2207\n",
            "Epoch 10, Train loss = 0.2214, Test loss = 0.2141\n",
            "Epoch 11, Train loss = 0.2180, Test loss = 0.2131\n",
            "Epoch 12, Train loss = 0.2132, Test loss = 0.2070\n",
            "Epoch 13, Train loss = 0.2047, Test loss = 0.2001\n",
            "Epoch 14, Train loss = 0.2007, Test loss = 0.1958\n",
            "Epoch 15, Train loss = 0.1963, Test loss = 0.2011\n"
          ]
        }
      ]
    },
    {
      "cell_type": "code",
      "source": [
        "def evaluate_and_plot(model, test_dataloader):\n",
        "    distances = list(range(-10, 11))\n",
        "    detection_probabilities = {distance: [] for distance in distances}\n",
        "\n",
        "    model.eval()\n",
        "    with torch.no_grad():\n",
        "        for sequences, labels in test_dataloader:\n",
        "            lengths = [len(seq) for seq in sequences]\n",
        "\n",
        "            sequences_tensor = torch.stack(sequences) if not isinstance(sequences[0], torch.Tensor) else sequences\n",
        "            labels_tensor = torch.stack(labels) if not isinstance(labels[0], torch.Tensor) else labels\n",
        "\n",
        "            outputs = model(sequences_tensor, lengths).squeeze()\n",
        "\n",
        "            for i, length in enumerate(lengths):\n",
        "                label = labels_tensor[i][:length]\n",
        "                nonzero_elements = label.nonzero(as_tuple=False).squeeze()\n",
        "                if nonzero_elements.numel() > 0:\n",
        "                    change_point = nonzero_elements.min().item()\n",
        "\n",
        "                    for distance in distances:\n",
        "                        timestep = change_point + distance\n",
        "                        if 0 <= timestep < length:\n",
        "                            detection_probabilities[distance].append(outputs[i, timestep].item())\n",
        "\n",
        "    avg_detection_probabilities = {distance: np.mean(probabilities) if probabilities else 0\n",
        "                                   for distance, probabilities in detection_probabilities.items()}\n",
        "\n",
        "    # Plotting\n",
        "    plt.figure(figsize=(10, 6))\n",
        "    plt.plot(distances, list(avg_detection_probabilities.values()), marker='.', linestyle='-')\n",
        "    plt.xlabel(\"Distance from Change Point\")\n",
        "    plt.ylabel(\"Detection Probability\")\n",
        "    plt.title(\"Detection Probability vs. Distance from Change Point\")\n",
        "    plt.grid(True)\n",
        "    plt.show()"
      ],
      "metadata": {
        "id": "bFBCWWrhw1FF"
      },
      "execution_count": null,
      "outputs": []
    },
    {
      "cell_type": "code",
      "source": [
        "evaluate_and_plot(lstmModel, test_dataloader)"
      ],
      "metadata": {
        "colab": {
          "base_uri": "https://localhost:8080/",
          "height": 564
        },
        "id": "sGfugPoXutrV",
        "outputId": "2302ffed-249d-4e34-ef11-29dda0446c86"
      },
      "execution_count": null,
      "outputs": [
        {
          "output_type": "display_data",
          "data": {
            "text/plain": [
              "<Figure size 1000x600 with 1 Axes>"
            ],
            "image/png": "[encoded data removed]"
          },
          "metadata": {}
        }
      ]
    },
    {
      "cell_type": "markdown",
      "source": [
        "**Part 2: Change Point Detection using CNN's**"
      ],
      "metadata": {
        "id": "yqAzgBIi3Elb"
      }
    },
    {
      "cell_type": "code",
      "source": [
        "class CNNModel(nn.Module):\n",
        "    def __init__(self):\n",
        "        super(CNNModel, self).__init__()\n",
        "        self.conv1 = nn.Conv1d(10, 32, kernel_size=3, padding=1)\n",
        "        self.bn1 = nn.BatchNorm1d(32)\n",
        "        self.conv2 = nn.Conv1d(32, 64, kernel_size=3, padding=1)\n",
        "        self.bn2 = nn.BatchNorm1d(64)\n",
        "        self.conv3 = nn.Conv1d(64, 128, kernel_size=3, padding=1)\n",
        "        self.bn3 = nn.BatchNorm1d(128)\n",
        "        self.conv4 = nn.Conv1d(128, 256, kernel_size=3, padding=1)\n",
        "        self.bn4 = nn.BatchNorm1d(256)\n",
        "        self.conv5 = nn.Conv1d(256, 512, kernel_size=3, padding=1)\n",
        "        self.bn5 = nn.BatchNorm1d(512)\n",
        "        self.dropout = nn.Dropout(0.5)\n",
        "        self.fc1 = nn.Linear(512, 128)\n",
        "        self.fc2 = nn.Linear(128, 32)\n",
        "        self.fc3 = nn.Linear(32, 1)\n",
        "        self.sigmoid = nn.Sigmoid()\n",
        "\n",
        "    def forward(self, x):\n",
        "        x = x.permute(0, 2, 1)\n",
        "        x = F.relu(self.bn1(self.conv1(x)))\n",
        "        x = F.relu(self.bn2(self.conv2(x)))\n",
        "        x = F.relu(self.bn3(self.conv3(x)))\n",
        "        x = F.relu(self.bn4(self.conv4(x)))\n",
        "        x = F.relu(self.bn5(self.conv5(x)))\n",
        "        x = self.dropout(x)\n",
        "        x = x.permute(0, 2, 1)\n",
        "        x = F.relu(self.fc1(x))\n",
        "        x = F.relu(self.fc2(x))\n",
        "        x = self.fc3(x)\n",
        "        x = self.sigmoid(x)\n",
        "        return x.squeeze(-1)"
      ],
      "metadata": {
        "id": "sYnHkGyfW0kF"
      },
      "execution_count": 10,
      "outputs": []
    },
    {
      "cell_type": "code",
      "source": [
        "def train_and_evaluate(model, train_loader, test_loader, criterion, optimizer, epochs=10):\n",
        "    for epoch in range(epochs):\n",
        "        model.train()\n",
        "        total_train_loss = 0\n",
        "        for sequences, labels in train_loader:\n",
        "            optimizer.zero_grad()\n",
        "            outputs = model(sequences)\n",
        "            loss = criterion(outputs, labels)\n",
        "            loss.backward()\n",
        "            optimizer.step()\n",
        "            total_train_loss += loss.item()\n",
        "        avg_train_loss = total_train_loss / len(train_loader)\n",
        "\n",
        "        # Testing loop\n",
        "        model.eval()\n",
        "        total_test_loss = 0\n",
        "        with torch.no_grad():\n",
        "            for sequences, labels in test_loader:\n",
        "                outputs = model(sequences)\n",
        "                loss = criterion(outputs, labels)\n",
        "                total_test_loss += loss.item()\n",
        "        avg_test_loss = total_test_loss / len(test_loader)\n",
        "\n",
        "        print(f'Epoch {epoch+1}/{epochs}, Train Loss: {avg_train_loss:.4f}, Test Loss: {avg_test_loss:.4f}')\n",
        "\n",
        "cnnModel = CNNModel()\n",
        "criterion = nn.BCELoss()\n",
        "optimizer = optim.Adam(cnnModel.parameters(), lr=0.001)\n",
        "\n",
        "train_and_evaluate(cnnModel, train_dataloader, test_dataloader, criterion, optimizer, epochs=15)"
      ],
      "metadata": {
        "colab": {
          "base_uri": "https://localhost:8080/"
        },
        "id": "kbFaNvWrXLgT",
        "outputId": "c4379a18-fd8d-4d20-a26f-289372ab89f3"
      },
      "execution_count": 13,
      "outputs": [
        {
          "output_type": "stream",
          "name": "stdout",
          "text": [
            "Epoch 1/15, Train Loss: 0.3430, Test Loss: 0.3132\n",
            "Epoch 2/15, Train Loss: 0.2679, Test Loss: 0.2720\n",
            "Epoch 3/15, Train Loss: 0.2440, Test Loss: 0.3054\n",
            "Epoch 4/15, Train Loss: 0.2296, Test Loss: 0.2536\n",
            "Epoch 5/15, Train Loss: 0.2137, Test Loss: 0.2473\n",
            "Epoch 6/15, Train Loss: 0.2015, Test Loss: 0.2205\n",
            "Epoch 7/15, Train Loss: 0.1942, Test Loss: 0.2871\n",
            "Epoch 8/15, Train Loss: 0.1850, Test Loss: 0.2303\n",
            "Epoch 9/15, Train Loss: 0.1778, Test Loss: 0.2154\n",
            "Epoch 10/15, Train Loss: 0.1701, Test Loss: 0.2312\n",
            "Epoch 11/15, Train Loss: 0.1613, Test Loss: 0.2228\n",
            "Epoch 12/15, Train Loss: 0.1557, Test Loss: 0.2630\n",
            "Epoch 13/15, Train Loss: 0.1447, Test Loss: 0.3249\n",
            "Epoch 14/15, Train Loss: 0.1384, Test Loss: 0.2429\n",
            "Epoch 15/15, Train Loss: 0.1318, Test Loss: 0.2578\n"
          ]
        }
      ]
    },
    {
      "cell_type": "code",
      "source": [
        "def evaluate_and_plot(model, test_loader):\n",
        "    model.eval()\n",
        "    distances = list(range(-10, 11))\n",
        "    detection_probabilities = {distance: [] for distance in distances}\n",
        "\n",
        "    with torch.no_grad():\n",
        "        for sequences, labels in test_loader:\n",
        "            outputs = model(sequences)\n",
        "\n",
        "            for batch_index in range(len(labels)):\n",
        "                change_points = (labels[batch_index] == 1).nonzero(as_tuple=False)\n",
        "\n",
        "                if change_points.nelement() == 0:\n",
        "                    continue\n",
        "\n",
        "                change_point = change_points[0, 0].item()\n",
        "\n",
        "                for distance in distances:\n",
        "                    timestep = change_point + distance\n",
        "                    if 0 <= timestep < labels.size(1):\n",
        "                        detection_probability = outputs[batch_index, timestep].item()\n",
        "                        detection_probabilities[distance].append(detection_probability)\n",
        "\n",
        "    avg_detection_probs = [np.mean(detection_probabilities[dist]) if detection_probabilities[dist] else 0 for dist in distances]\n",
        "\n",
        "    plt.figure(figsize=(10, 6))\n",
        "    plt.plot(distances, avg_detection_probs, marker='o', linestyle='-', color='blue')\n",
        "    plt.xlabel('Distance from Change Point')\n",
        "    plt.ylabel('Average Detection Probability')\n",
        "    plt.title('Detection Probability vs. Distance from Change Point')\n",
        "    plt.grid(True)\n",
        "    plt.show()\n",
        "\n",
        "evaluate_and_plot(cnnModel, test_dataloader)"
      ],
      "metadata": {
        "id": "B6tVf5jLoVCH"
      },
      "execution_count": null,
      "outputs": []
    },
    {
      "cell_type": "markdown",
      "source": [
        "#Problem 3:"
      ],
      "metadata": {
        "id": "TzahBScR6fvS"
      }
    },
    {
      "cell_type": "code",
      "source": [],
      "metadata": {
        "id": "Yk12NHvC6e9L"
      },
      "execution_count": null,
      "outputs": []
    }
  ]
}