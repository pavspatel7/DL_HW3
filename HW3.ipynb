{
  "nbformat": 4,
  "nbformat_minor": 0,
  "metadata": {
    "colab": {
      "provenance": []
    },
    "kernelspec": {
      "name": "python3",
      "display_name": "Python 3"
    },
    "language_info": {
      "name": "python"
    }
  },
  "cells": [
    {
      "cell_type": "markdown",
      "source": [
        "#Problem 1:"
      ],
      "metadata": {
        "id": "7YF2CMqHhq0v"
      }
    },
    {
      "cell_type": "code",
      "execution_count": null,
      "metadata": {
        "id": "OqsUHg9adnin"
      },
      "outputs": [],
      "source": [
        "import numpy as np\n",
        "import torch\n",
        "from torch import nn\n",
        "import torch.optim as optim\n",
        "import torchvision\n",
        "import torchvision.transforms as transforms\n",
        "from torch.utils.data import DataLoader\n",
        "import matplotlib.pyplot as plt\n",
        "import time\n",
        "import math\n",
        "import torch.nn.functional as F"
      ]
    },
    {
      "cell_type": "code",
      "source": [
        "# Setting device for GPU acceleration\n",
        "device = torch.device('cuda' if torch.cuda.is_available() else 'cpu')\n",
        "print('Using device:', device)\n",
        "\n",
        "# Loading MNIST dataset\n",
        "transform = transforms.Compose([\n",
        "    transforms.ToTensor(),\n",
        "    transforms.Normalize((0.5,), (0.5,))\n",
        "])\n",
        "trainset = torchvision.datasets.MNIST(root='./data', train=True, download=True, transform=transform)\n",
        "testset = torchvision.datasets.MNIST(root='./data', train=False, download=True, transform=transform)\n",
        "\n",
        "train_loader = DataLoader(trainset, batch_size=64, shuffle=True)\n",
        "test_loader = DataLoader(testset, batch_size=64, shuffle=False)"
      ],
      "metadata": {
        "colab": {
          "base_uri": "https://localhost:8080/"
        },
        "id": "RIDowHbodsLV",
        "outputId": "5a37ec2e-7725-4dc0-e0b4-50f303710b58"
      },
      "execution_count": null,
      "outputs": [
        {
          "output_type": "stream",
          "name": "stdout",
          "text": [
            "Using device: cpu\n",
            "Downloading http://yann.lecun.com/exdb/mnist/train-images-idx3-ubyte.gz\n",
            "Downloading http://yann.lecun.com/exdb/mnist/train-images-idx3-ubyte.gz to ./data/MNIST/raw/train-images-idx3-ubyte.gz\n"
          ]
        },
        {
          "output_type": "stream",
          "name": "stderr",
          "text": [
            "100%|██████████| 9912422/9912422 [00:00<00:00, 95641867.86it/s]\n"
          ]
        },
        {
          "output_type": "stream",
          "name": "stdout",
          "text": [
            "Extracting ./data/MNIST/raw/train-images-idx3-ubyte.gz to ./data/MNIST/raw\n",
            "\n",
            "Downloading http://yann.lecun.com/exdb/mnist/train-labels-idx1-ubyte.gz\n",
            "Downloading http://yann.lecun.com/exdb/mnist/train-labels-idx1-ubyte.gz to ./data/MNIST/raw/train-labels-idx1-ubyte.gz\n"
          ]
        },
        {
          "output_type": "stream",
          "name": "stderr",
          "text": [
            "100%|██████████| 28881/28881 [00:00<00:00, 71214399.66it/s]\n"
          ]
        },
        {
          "output_type": "stream",
          "name": "stdout",
          "text": [
            "Extracting ./data/MNIST/raw/train-labels-idx1-ubyte.gz to ./data/MNIST/raw\n",
            "\n",
            "Downloading http://yann.lecun.com/exdb/mnist/t10k-images-idx3-ubyte.gz\n",
            "Downloading http://yann.lecun.com/exdb/mnist/t10k-images-idx3-ubyte.gz to ./data/MNIST/raw/t10k-images-idx3-ubyte.gz\n"
          ]
        },
        {
          "output_type": "stream",
          "name": "stderr",
          "text": [
            "100%|██████████| 1648877/1648877 [00:00<00:00, 26235115.99it/s]\n"
          ]
        },
        {
          "output_type": "stream",
          "name": "stdout",
          "text": [
            "Extracting ./data/MNIST/raw/t10k-images-idx3-ubyte.gz to ./data/MNIST/raw\n",
            "\n",
            "Downloading http://yann.lecun.com/exdb/mnist/t10k-labels-idx1-ubyte.gz\n",
            "Downloading http://yann.lecun.com/exdb/mnist/t10k-labels-idx1-ubyte.gz to ./data/MNIST/raw/t10k-labels-idx1-ubyte.gz\n"
          ]
        },
        {
          "output_type": "stream",
          "name": "stderr",
          "text": [
            "100%|██████████| 4542/4542 [00:00<00:00, 14722201.52it/s]\n"
          ]
        },
        {
          "output_type": "stream",
          "name": "stdout",
          "text": [
            "Extracting ./data/MNIST/raw/t10k-labels-idx1-ubyte.gz to ./data/MNIST/raw\n",
            "\n"
          ]
        }
      ]
    },
    {
      "cell_type": "code",
      "source": [
        "# NN class definition\n",
        "class DynamicMNISTModel(nn.Module):\n",
        "    def __init__(self, input_size, hidden_sizes, output_size, activation_flag=0):\n",
        "        super(DynamicMNISTModel, self).__init__()\n",
        "        self.flatten = nn.Flatten()\n",
        "        layers = []\n",
        "\n",
        "        # Choosing the activation function based on activation_flag\n",
        "        if activation_flag == 1:\n",
        "            activation = nn.Sigmoid()\n",
        "        elif activation_flag == 2:\n",
        "            activation = nn.Tanh()\n",
        "        elif activation_flag == 3:\n",
        "            activation = nn.ELU()\n",
        "        else:\n",
        "            # Default is ReLU\n",
        "            activation = nn.ReLU()\n",
        "\n",
        "        if len(hidden_sizes) == 0:\n",
        "            # No hidden layers, only input and output layers\n",
        "            layers.append(nn.Linear(input_size, output_size))\n",
        "        else:\n",
        "            # First layer\n",
        "            layers.append(nn.Linear(input_size, hidden_sizes[0]))\n",
        "            layers.append(nn.LayerNorm(hidden_sizes[0]))\n",
        "            layers.append(activation)\n",
        "            # Hidden layers\n",
        "            for i in range(1, len(hidden_sizes)):\n",
        "                layers.append(nn.Linear(hidden_sizes[i-1], hidden_sizes[i]))\n",
        "                layers.append(nn.LayerNorm(hidden_sizes[i]))\n",
        "                layers.append(activation)\n",
        "            # Output layer\n",
        "            layers.append(nn.Linear(hidden_sizes[-1], output_size))\n",
        "        self.network = nn.Sequential(*layers)\n",
        "\n",
        "    def forward(self, x):\n",
        "        x = self.flatten(x)\n",
        "        return self.network(x)"
      ],
      "metadata": {
        "id": "ggF40NYLdsH3"
      },
      "execution_count": null,
      "outputs": []
    },
    {
      "cell_type": "code",
      "source": [
        "# SGD Optimizer\n",
        "def SGD_optim(model):\n",
        "    return optim.SGD(model.parameters(), lr=0.0015, momentum=0.9)"
      ],
      "metadata": {
        "id": "D_5_zJp7dsFI"
      },
      "execution_count": null,
      "outputs": []
    },
    {
      "cell_type": "code",
      "source": [
        "# Adam Optimizer\n",
        "def Adam_optim(model):\n",
        "    return optim.Adam(model.parameters(), lr=0.0015)"
      ],
      "metadata": {
        "id": "2vudFp_ydsCh"
      },
      "execution_count": null,
      "outputs": []
    },
    {
      "cell_type": "code",
      "source": [
        "# Training & Testing Model\n",
        "def train_and_test_model(model, train_loader, test_loader, epochs=10, flag=1):\n",
        "    optimizer = SGD_optim(model) if flag == 1 else Adam_optim(model)\n",
        "    loss_function = nn.CrossEntropyLoss()\n",
        "    model.to(device)\n",
        "\n",
        "    total_training_time = 0\n",
        "\n",
        "    for epoch in range(epochs):\n",
        "        total_train_loss, total_train_samples = 0, 0\n",
        "        total_test_loss, total_test_samples = 0, 0\n",
        "\n",
        "        start_time = time.time()\n",
        "\n",
        "        model.train()\n",
        "        for images, labels in train_loader:\n",
        "            images, labels = images.to(device), labels.to(device)\n",
        "            optimizer.zero_grad()\n",
        "            outputs = model(images)\n",
        "            train_loss = loss_function(outputs, labels)\n",
        "            train_loss.backward()\n",
        "            optimizer.step()\n",
        "\n",
        "            total_train_loss += train_loss.item() * labels.size(0)\n",
        "            total_train_samples += labels.size(0)\n",
        "\n",
        "        total_training_time += time.time() - start_time\n",
        "\n",
        "        model.eval()\n",
        "        with torch.no_grad():\n",
        "            for images, labels in test_loader:\n",
        "                images, labels = images.to(device), labels.to(device)\n",
        "                outputs = model(images)\n",
        "                test_loss = loss_function(outputs, labels)\n",
        "\n",
        "                total_test_loss += test_loss.item() * labels.size(0)\n",
        "                total_test_samples += labels.size(0)\n",
        "\n",
        "    average_train_loss_last_epoch = total_train_loss / total_train_samples\n",
        "    average_test_loss_last_epoch = total_test_loss / total_test_samples\n",
        "    print(f\"train loss={average_train_loss_last_epoch}, test loss={average_test_loss_last_epoch}\")\n",
        "\n",
        "    return average_train_loss_last_epoch, average_test_loss_last_epoch, total_training_time"
      ],
      "metadata": {
        "id": "M5uGd037dr7L"
      },
      "execution_count": null,
      "outputs": []
    },
    {
      "cell_type": "code",
      "source": [
        "def Problem4(hidden_sizes):\n",
        "    model = DynamicMNISTModel(28*28, hidden_sizes, 10).to(device)\n",
        "    avg_train_loss1, avg_test_loss1, train_time1 = train_and_test_model(model, train_loader, test_loader)\n",
        "    return model"
      ],
      "metadata": {
        "id": "FJ6kDgLAd2zT"
      },
      "execution_count": null,
      "outputs": []
    },
    {
      "cell_type": "code",
      "source": [
        "# Train & Test for Decreasing size - best model from P4\n",
        "hidden_sizes = [575, 475, 375, 250]\n",
        "modelP4 = Problem4(hidden_sizes)"
      ],
      "metadata": {
        "colab": {
          "base_uri": "https://localhost:8080/"
        },
        "id": "BGYSnNc3d50w",
        "outputId": "49f9dafc-b170-47db-f931-6d6f78959dcf"
      },
      "execution_count": null,
      "outputs": [
        {
          "output_type": "stream",
          "name": "stdout",
          "text": [
            "train loss=0.016592147344350813, test loss=0.06437768416907638\n"
          ]
        }
      ]
    },
    {
      "cell_type": "code",
      "source": [
        "# Train & Test for base model\n",
        "hidden_sizes = []\n",
        "modelbase = Problem4(hidden_sizes)"
      ],
      "metadata": {
        "colab": {
          "base_uri": "https://localhost:8080/"
        },
        "id": "_e7vCfJYd7Yh",
        "outputId": "ebf59def-65a5-4f3a-ada2-81c321a9ca31"
      },
      "execution_count": null,
      "outputs": [
        {
          "output_type": "stream",
          "name": "stdout",
          "text": [
            "train loss=0.2889441215912501, test loss=0.28367612758874894\n"
          ]
        }
      ]
    },
    {
      "cell_type": "code",
      "source": [
        "modelP4.eval()\n",
        "modelbase.eval()"
      ],
      "metadata": {
        "colab": {
          "base_uri": "https://localhost:8080/"
        },
        "id": "XRRQGuONd96l",
        "outputId": "415bb856-0f7e-44f7-c412-f23f1de1792a"
      },
      "execution_count": null,
      "outputs": [
        {
          "output_type": "execute_result",
          "data": {
            "text/plain": [
              "DynamicMNISTModel(\n",
              "  (flatten): Flatten(start_dim=1, end_dim=-1)\n",
              "  (network): Sequential(\n",
              "    (0): Linear(in_features=784, out_features=10, bias=True)\n",
              "  )\n",
              ")"
            ]
          },
          "metadata": {},
          "execution_count": 10
        }
      ]
    },
    {
      "cell_type": "code",
      "source": [
        "initial_images = torch.rand(10, 1, 28, 28, requires_grad=True)\n",
        "\n",
        "lambda_reg = 0.1\n",
        "def optimize_image(model, target_digit, initial_image, iterations=1000, learning_rate=0.01):\n",
        "    image = initial_image.clone().detach().requires_grad_(True)\n",
        "    optimizer = torch.optim.Adam([image], lr=learning_rate)\n",
        "    # optimizer = torch.optim.SGD([image], lr=learning_rate, momentum=0.9)\n",
        "    for i in range(iterations):\n",
        "        optimizer.zero_grad()\n",
        "        output = model(image)\n",
        "        log_probs = F.log_softmax(output, dim=1)\n",
        "        loss = -log_probs[0, target_digit]\n",
        "        l2_reg = lambda_reg * torch.sum(image ** 2)\n",
        "        total_loss = loss + l2_reg\n",
        "        total_loss.backward()\n",
        "        optimizer.step()\n",
        "        image.data = image.data.clamp_(0, 1)\n",
        "    return image.detach()"
      ],
      "metadata": {
        "id": "Ae2y5T9rd93J"
      },
      "execution_count": 218,
      "outputs": []
    },
    {
      "cell_type": "code",
      "source": [
        "optimized_images_simple = [optimize_image(modelbase, digit, initial_images[digit].unsqueeze(0)) for digit in range(10)]\n",
        "optimized_images_complex = [optimize_image(modelP4, digit, initial_images[digit].unsqueeze(0)) for digit in range(10)]"
      ],
      "metadata": {
        "id": "VYmHiqqhd90k"
      },
      "execution_count": 219,
      "outputs": []
    },
    {
      "cell_type": "code",
      "source": [
        "def show_images(images):\n",
        "    fig, axes = plt.subplots(1, 10, figsize=(20, 2))\n",
        "    for i, ax in enumerate(axes):\n",
        "        ax.imshow(images[i].squeeze().cpu().numpy(), cmap='gray')\n",
        "        ax.axis('off')\n",
        "    plt.show()\n",
        "\n",
        "# Convert the list of tensors to a tensor for easy manipulation\n",
        "optimized_images_simple_tensor = torch.cat([img for img in optimized_images_simple], dim=0)\n",
        "optimized_images_complex_tensor = torch.cat([img for img in optimized_images_complex], dim=0)\n",
        "\n",
        "print(\"Base Model: 0 to 9 images\")\n",
        "show_images(optimized_images_simple_tensor)\n",
        "print(\"P4 Model: 0 to 9 images\")\n",
        "show_images(optimized_images_complex_tensor)"
      ],
      "metadata": {
        "colab": {
          "base_uri": "https://localhost:8080/",
          "height": 324
        },
        "id": "k6kh-vGAMY3F",
        "outputId": "6942b822-463d-496b-9cc6-fca320cd845e"
      },
      "execution_count": 220,
      "outputs": [
        {
          "output_type": "stream",
          "name": "stdout",
          "text": [
            "Base Model: 0 to 9 images\n"
          ]
        },
        {
          "output_type": "display_data",
          "data": {
            "text/plain": [
              "<Figure size 2000x200 with 10 Axes>"
            ],
            "image/png": "[encoded data removed]"
          },
          "metadata": {}
        },
        {
          "output_type": "stream",
          "name": "stdout",
          "text": [
            "P4 Model: 0 to 9 images\n"
          ]
        },
        {
          "output_type": "display_data",
          "data": {
            "text/plain": [
              "<Figure size 2000x200 with 10 Axes>"
            ],
            "image/png": "[encoded data removed]"
          },
          "metadata": {}
        }
      ]
    },
    {
      "cell_type": "markdown",
      "source": [
        "#Problem 2:"
      ],
      "metadata": {
        "id": "RxNJrgaQNFxh"
      }
    },
    {
      "cell_type": "code",
      "source": [],
      "metadata": {
        "id": "K99hQUcmNEVe"
      },
      "execution_count": null,
      "outputs": []
    }
  ]
}